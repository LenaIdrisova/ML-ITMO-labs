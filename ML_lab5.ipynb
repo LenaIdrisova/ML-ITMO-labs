{
  "cells": [
    {
      "cell_type": "markdown",
      "metadata": {
        "id": "UclES7lKdcDp"
      },
      "source": [
        "# Машинное обучение - Лабораторная работа 5\n",
        "\n",
        "**Выполнила:**  \n",
        "Идрисова Лена  \n"
      ]
    },
    {
      "cell_type": "markdown",
      "metadata": {
        "id": "mYjXjWG3SMCL"
      },
      "source": [
        "### Импорты и первичная настройка"
      ]
    },
    {
      "cell_type": "code",
      "execution_count": null,
      "metadata": {
        "id": "SL4TaJOKRL6W"
      },
      "outputs": [],
      "source": [
        "import numpy as np\n",
        "import pandas as pd\n",
        "import gdown\n",
        "from sklearn.ensemble import RandomForestClassifier, GradientBoostingClassifier, RandomForestRegressor, GradientBoostingRegressor\n",
        "from sklearn.model_selection import train_test_split\n",
        "from sklearn.metrics import accuracy_score, classification_report, confusion_matrix, mean_squared_error, r2_score, mean_absolute_error\n",
        "import matplotlib.pyplot as plt\n",
        "import seaborn as sns\n"
      ]
    },
    {
      "cell_type": "markdown",
      "metadata": {
        "id": "Vx1atsh-cFBe"
      },
      "source": [
        "## Advertising"
      ]
    },
    {
      "cell_type": "markdown",
      "metadata": {
        "id": "5-YmitxvQwpZ"
      },
      "source": [
        "### 1. Загрузка данных\n"
      ]
    },
    {
      "cell_type": "code",
      "execution_count": null,
      "metadata": {
        "colab": {
          "base_uri": "https://localhost:8080/",
          "height": 275
        },
        "id": "G2gP7X-eQztC",
        "outputId": "5d532bc6-dc40-4b36-85c2-0db851ce144a"
      },
      "outputs": [
        {
          "name": "stderr",
          "output_type": "stream",
          "text": [
            "Downloading...\n",
            "From: https://drive.google.com/uc?export=download&id=1Y7MM-B-QaSWuzgQxjt6iPvezZC3Zzjs8\n",
            "To: /content/advertising_clean.csv\n",
            "100%|██████████| 14.8k/14.8k [00:00<00:00, 18.8MB/s]\n"
          ]
        },
        {
          "data": {
            "application/vnd.google.colaboratory.intrinsic+json": {
              "summary": "{\n  \"name\": \"Advertising\",\n  \"rows\": 188,\n  \"fields\": [\n    {\n      \"column\": \"TV\",\n      \"properties\": {\n        \"dtype\": \"number\",\n        \"std\": 0.9675329391433835,\n        \"min\": -1.6691220852346524,\n        \"max\": 1.7113339979836482,\n        \"num_unique_values\": 179,\n        \"samples\": [\n          0.5389754806948142,\n          0.0030067959980268,\n          -0.4348761163359499\n        ],\n        \"semantic_type\": \"\",\n        \"description\": \"\"\n      }\n    },\n    {\n      \"column\": \"radio\",\n      \"properties\": {\n        \"dtype\": \"number\",\n        \"std\": 0.9741323196154142,\n        \"min\": -1.5708681061368763,\n        \"max\": 1.778300483288375,\n        \"num_unique_values\": 160,\n        \"samples\": [\n          -0.1056068482633289,\n          0.610142890605777,\n          -0.8551183672677702\n        ],\n        \"semantic_type\": \"\",\n        \"description\": \"\"\n      }\n    },\n    {\n      \"column\": \"newspaper\",\n      \"properties\": {\n        \"dtype\": \"number\",\n        \"std\": 0.8877933390299682,\n        \"min\": -1.3926464877239573,\n        \"max\": 2.239263602889524,\n        \"num_unique_values\": 162,\n        \"samples\": [\n          -1.1302651503792571,\n          -0.9829633469576712,\n          0.9181505534521738\n        ],\n        \"semantic_type\": \"\",\n        \"description\": \"\"\n      }\n    },\n    {\n      \"column\": \"sales\",\n      \"properties\": {\n        \"dtype\": \"number\",\n        \"std\": 0.9813925216687035,\n        \"min\": -2.079491798140515,\n        \"max\": 2.49356477804283,\n        \"num_unique_values\": 119,\n        \"samples\": [\n          1.5904821768637665,\n          -1.349339907825527,\n          -0.4270427832171212\n        ],\n        \"semantic_type\": \"\",\n        \"description\": \"\"\n      }\n    }\n  ]\n}",
              "type": "dataframe",
              "variable_name": "Advertising"
            },
            "text/html": [
              "\n",
              "  <div id=\"df-6e1cf25f-8da9-4c77-899b-0e4244b46541\" class=\"colab-df-container\">\n",
              "    <div>\n",
              "<style scoped>\n",
              "    .dataframe tbody tr th:only-of-type {\n",
              "        vertical-align: middle;\n",
              "    }\n",
              "\n",
              "    .dataframe tbody tr th {\n",
              "        vertical-align: top;\n",
              "    }\n",
              "\n",
              "    .dataframe thead th {\n",
              "        text-align: right;\n",
              "    }\n",
              "</style>\n",
              "<table border=\"1\" class=\"dataframe\">\n",
              "  <thead>\n",
              "    <tr style=\"text-align: right;\">\n",
              "      <th></th>\n",
              "      <th>TV</th>\n",
              "      <th>radio</th>\n",
              "      <th>newspaper</th>\n",
              "      <th>sales</th>\n",
              "    </tr>\n",
              "  </thead>\n",
              "  <tbody>\n",
              "    <tr>\n",
              "      <th>0</th>\n",
              "      <td>0.969852</td>\n",
              "      <td>0.981522</td>\n",
              "      <td>1.778945</td>\n",
              "      <td>1.552053</td>\n",
              "    </tr>\n",
              "    <tr>\n",
              "      <th>1</th>\n",
              "      <td>-1.197376</td>\n",
              "      <td>1.082808</td>\n",
              "      <td>0.669579</td>\n",
              "      <td>-0.696046</td>\n",
              "    </tr>\n",
              "    <tr>\n",
              "      <th>2</th>\n",
              "      <td>0.052050</td>\n",
              "      <td>1.217855</td>\n",
              "      <td>1.286405</td>\n",
              "      <td>0.860330</td>\n",
              "    </tr>\n",
              "    <tr>\n",
              "      <th>3</th>\n",
              "      <td>0.394182</td>\n",
              "      <td>-0.841614</td>\n",
              "      <td>1.281802</td>\n",
              "      <td>-0.215683</td>\n",
              "    </tr>\n",
              "    <tr>\n",
              "      <th>4</th>\n",
              "      <td>-1.045577</td>\n",
              "      <td>0.643905</td>\n",
              "      <td>-0.324708</td>\n",
              "      <td>-0.427043</td>\n",
              "    </tr>\n",
              "  </tbody>\n",
              "</table>\n",
              "</div>\n",
              "    <div class=\"colab-df-buttons\">\n",
              "\n",
              "  <div class=\"colab-df-container\">\n",
              "    <button class=\"colab-df-convert\" onclick=\"convertToInteractive('df-6e1cf25f-8da9-4c77-899b-0e4244b46541')\"\n",
              "            title=\"Convert this dataframe to an interactive table.\"\n",
              "            style=\"display:none;\">\n",
              "\n",
              "  <svg xmlns=\"http://www.w3.org/2000/svg\" height=\"24px\" viewBox=\"0 -960 960 960\">\n",
              "    <path d=\"M120-120v-720h720v720H120Zm60-500h600v-160H180v160Zm220 220h160v-160H400v160Zm0 220h160v-160H400v160ZM180-400h160v-160H180v160Zm440 0h160v-160H620v160ZM180-180h160v-160H180v160Zm440 0h160v-160H620v160Z\"/>\n",
              "  </svg>\n",
              "    </button>\n",
              "\n",
              "  <style>\n",
              "    .colab-df-container {\n",
              "      display:flex;\n",
              "      gap: 12px;\n",
              "    }\n",
              "\n",
              "    .colab-df-convert {\n",
              "      background-color: #E8F0FE;\n",
              "      border: none;\n",
              "      border-radius: 50%;\n",
              "      cursor: pointer;\n",
              "      display: none;\n",
              "      fill: #1967D2;\n",
              "      height: 32px;\n",
              "      padding: 0 0 0 0;\n",
              "      width: 32px;\n",
              "    }\n",
              "\n",
              "    .colab-df-convert:hover {\n",
              "      background-color: #E2EBFA;\n",
              "      box-shadow: 0px 1px 2px rgba(60, 64, 67, 0.3), 0px 1px 3px 1px rgba(60, 64, 67, 0.15);\n",
              "      fill: #174EA6;\n",
              "    }\n",
              "\n",
              "    .colab-df-buttons div {\n",
              "      margin-bottom: 4px;\n",
              "    }\n",
              "\n",
              "    [theme=dark] .colab-df-convert {\n",
              "      background-color: #3B4455;\n",
              "      fill: #D2E3FC;\n",
              "    }\n",
              "\n",
              "    [theme=dark] .colab-df-convert:hover {\n",
              "      background-color: #434B5C;\n",
              "      box-shadow: 0px 1px 3px 1px rgba(0, 0, 0, 0.15);\n",
              "      filter: drop-shadow(0px 1px 2px rgba(0, 0, 0, 0.3));\n",
              "      fill: #FFFFFF;\n",
              "    }\n",
              "  </style>\n",
              "\n",
              "    <script>\n",
              "      const buttonEl =\n",
              "        document.querySelector('#df-6e1cf25f-8da9-4c77-899b-0e4244b46541 button.colab-df-convert');\n",
              "      buttonEl.style.display =\n",
              "        google.colab.kernel.accessAllowed ? 'block' : 'none';\n",
              "\n",
              "      async function convertToInteractive(key) {\n",
              "        const element = document.querySelector('#df-6e1cf25f-8da9-4c77-899b-0e4244b46541');\n",
              "        const dataTable =\n",
              "          await google.colab.kernel.invokeFunction('convertToInteractive',\n",
              "                                                    [key], {});\n",
              "        if (!dataTable) return;\n",
              "\n",
              "        const docLinkHtml = 'Like what you see? Visit the ' +\n",
              "          '<a target=\"_blank\" href=https://colab.research.google.com/notebooks/data_table.ipynb>data table notebook</a>'\n",
              "          + ' to learn more about interactive tables.';\n",
              "        element.innerHTML = '';\n",
              "        dataTable['output_type'] = 'display_data';\n",
              "        await google.colab.output.renderOutput(dataTable, element);\n",
              "        const docLink = document.createElement('div');\n",
              "        docLink.innerHTML = docLinkHtml;\n",
              "        element.appendChild(docLink);\n",
              "      }\n",
              "    </script>\n",
              "  </div>\n",
              "\n",
              "\n",
              "<div id=\"df-dd61a40e-cf9c-45a3-a372-e91e309f7d13\">\n",
              "  <button class=\"colab-df-quickchart\" onclick=\"quickchart('df-dd61a40e-cf9c-45a3-a372-e91e309f7d13')\"\n",
              "            title=\"Suggest charts\"\n",
              "            style=\"display:none;\">\n",
              "\n",
              "<svg xmlns=\"http://www.w3.org/2000/svg\" height=\"24px\"viewBox=\"0 0 24 24\"\n",
              "     width=\"24px\">\n",
              "    <g>\n",
              "        <path d=\"M19 3H5c-1.1 0-2 .9-2 2v14c0 1.1.9 2 2 2h14c1.1 0 2-.9 2-2V5c0-1.1-.9-2-2-2zM9 17H7v-7h2v7zm4 0h-2V7h2v10zm4 0h-2v-4h2v4z\"/>\n",
              "    </g>\n",
              "</svg>\n",
              "  </button>\n",
              "\n",
              "<style>\n",
              "  .colab-df-quickchart {\n",
              "      --bg-color: #E8F0FE;\n",
              "      --fill-color: #1967D2;\n",
              "      --hover-bg-color: #E2EBFA;\n",
              "      --hover-fill-color: #174EA6;\n",
              "      --disabled-fill-color: #AAA;\n",
              "      --disabled-bg-color: #DDD;\n",
              "  }\n",
              "\n",
              "  [theme=dark] .colab-df-quickchart {\n",
              "      --bg-color: #3B4455;\n",
              "      --fill-color: #D2E3FC;\n",
              "      --hover-bg-color: #434B5C;\n",
              "      --hover-fill-color: #FFFFFF;\n",
              "      --disabled-bg-color: #3B4455;\n",
              "      --disabled-fill-color: #666;\n",
              "  }\n",
              "\n",
              "  .colab-df-quickchart {\n",
              "    background-color: var(--bg-color);\n",
              "    border: none;\n",
              "    border-radius: 50%;\n",
              "    cursor: pointer;\n",
              "    display: none;\n",
              "    fill: var(--fill-color);\n",
              "    height: 32px;\n",
              "    padding: 0;\n",
              "    width: 32px;\n",
              "  }\n",
              "\n",
              "  .colab-df-quickchart:hover {\n",
              "    background-color: var(--hover-bg-color);\n",
              "    box-shadow: 0 1px 2px rgba(60, 64, 67, 0.3), 0 1px 3px 1px rgba(60, 64, 67, 0.15);\n",
              "    fill: var(--button-hover-fill-color);\n",
              "  }\n",
              "\n",
              "  .colab-df-quickchart-complete:disabled,\n",
              "  .colab-df-quickchart-complete:disabled:hover {\n",
              "    background-color: var(--disabled-bg-color);\n",
              "    fill: var(--disabled-fill-color);\n",
              "    box-shadow: none;\n",
              "  }\n",
              "\n",
              "  .colab-df-spinner {\n",
              "    border: 2px solid var(--fill-color);\n",
              "    border-color: transparent;\n",
              "    border-bottom-color: var(--fill-color);\n",
              "    animation:\n",
              "      spin 1s steps(1) infinite;\n",
              "  }\n",
              "\n",
              "  @keyframes spin {\n",
              "    0% {\n",
              "      border-color: transparent;\n",
              "      border-bottom-color: var(--fill-color);\n",
              "      border-left-color: var(--fill-color);\n",
              "    }\n",
              "    20% {\n",
              "      border-color: transparent;\n",
              "      border-left-color: var(--fill-color);\n",
              "      border-top-color: var(--fill-color);\n",
              "    }\n",
              "    30% {\n",
              "      border-color: transparent;\n",
              "      border-left-color: var(--fill-color);\n",
              "      border-top-color: var(--fill-color);\n",
              "      border-right-color: var(--fill-color);\n",
              "    }\n",
              "    40% {\n",
              "      border-color: transparent;\n",
              "      border-right-color: var(--fill-color);\n",
              "      border-top-color: var(--fill-color);\n",
              "    }\n",
              "    60% {\n",
              "      border-color: transparent;\n",
              "      border-right-color: var(--fill-color);\n",
              "    }\n",
              "    80% {\n",
              "      border-color: transparent;\n",
              "      border-right-color: var(--fill-color);\n",
              "      border-bottom-color: var(--fill-color);\n",
              "    }\n",
              "    90% {\n",
              "      border-color: transparent;\n",
              "      border-bottom-color: var(--fill-color);\n",
              "    }\n",
              "  }\n",
              "</style>\n",
              "\n",
              "  <script>\n",
              "    async function quickchart(key) {\n",
              "      const quickchartButtonEl =\n",
              "        document.querySelector('#' + key + ' button');\n",
              "      quickchartButtonEl.disabled = true;  // To prevent multiple clicks.\n",
              "      quickchartButtonEl.classList.add('colab-df-spinner');\n",
              "      try {\n",
              "        const charts = await google.colab.kernel.invokeFunction(\n",
              "            'suggestCharts', [key], {});\n",
              "      } catch (error) {\n",
              "        console.error('Error during call to suggestCharts:', error);\n",
              "      }\n",
              "      quickchartButtonEl.classList.remove('colab-df-spinner');\n",
              "      quickchartButtonEl.classList.add('colab-df-quickchart-complete');\n",
              "    }\n",
              "    (() => {\n",
              "      let quickchartButtonEl =\n",
              "        document.querySelector('#df-dd61a40e-cf9c-45a3-a372-e91e309f7d13 button');\n",
              "      quickchartButtonEl.style.display =\n",
              "        google.colab.kernel.accessAllowed ? 'block' : 'none';\n",
              "    })();\n",
              "  </script>\n",
              "</div>\n",
              "    </div>\n",
              "  </div>\n"
            ],
            "text/plain": [
              "         TV     radio  newspaper     sales\n",
              "0  0.969852  0.981522   1.778945  1.552053\n",
              "1 -1.197376  1.082808   0.669579 -0.696046\n",
              "2  0.052050  1.217855   1.286405  0.860330\n",
              "3  0.394182 -0.841614   1.281802 -0.215683\n",
              "4 -1.045577  0.643905  -0.324708 -0.427043"
            ]
          },
          "execution_count": 5,
          "metadata": {},
          "output_type": "execute_result"
        }
      ],
      "source": [
        "url = '   '\n",
        "output = 'advertising_clean.csv'\n",
        "gdown.download(url, output, quiet=False)\n",
        "Advertising = pd.read_csv('/content/advertising_clean.csv')\n",
        "Advertising.head()"
      ]
    },
    {
      "cell_type": "markdown",
      "metadata": {
        "id": "FN8eELMxQ9X2"
      },
      "source": [
        "### 2. Разбиваем датасет на train/test\n",
        "Можно выделить валидационную выборку, но для упрощённого случая\n",
        "будем использовать train_test_split и финальный тест для сравнения моделей."
      ]
    },
    {
      "cell_type": "code",
      "execution_count": null,
      "metadata": {
        "colab": {
          "base_uri": "https://localhost:8080/"
        },
        "id": "9pQDEm0kQ-KM",
        "outputId": "68e9324b-62fe-4e6a-d20c-896291d0dd1e"
      },
      "outputs": [
        {
          "name": "stdout",
          "output_type": "stream",
          "text": [
            "Размер обучающей выборки: (150, 3) (150,)\n",
            "Размер тестовой выборки: (38, 3) (38,)\n"
          ]
        }
      ],
      "source": [
        "X = Advertising.drop('sales', axis=1)\n",
        "y = Advertising['sales']\n",
        "\n",
        "# Разделение в соотношении 80/20\n",
        "X_train, X_test, y_train, y_test = train_test_split(\n",
        "    X,\n",
        "    y,\n",
        "    test_size=0.2,\n",
        ")\n",
        "\n",
        "print(\"Размер обучающей выборки:\", X_train.shape, y_train.shape)\n",
        "print(\"Размер тестовой выборки:\", X_test.shape, y_test.shape)\n"
      ]
    },
    {
      "cell_type": "markdown",
      "metadata": {
        "id": "17SV9r0mQ_V7"
      },
      "source": [
        "### 3. Модель: Случайный лес (RandomForestClassifier)"
      ]
    },
    {
      "cell_type": "code",
      "execution_count": null,
      "metadata": {
        "colab": {
          "base_uri": "https://localhost:8080/"
        },
        "id": "YGH8A2KaRAZ8",
        "outputId": "70816974-eeaa-450f-e2e6-54561d5c2bab"
      },
      "outputs": [
        {
          "name": "stdout",
          "output_type": "stream",
          "text": [
            "Обучена RF_model_1 с параметрами {'n_estimators': 100, 'max_depth': None, 'max_features': 'sqrt'}\n",
            "Обучена RF_model_2 с параметрами {'n_estimators': 200, 'max_depth': 10, 'max_features': 'sqrt'}\n",
            "Обучена RF_model_3 с параметрами {'n_estimators': 50, 'max_depth': 5, 'max_features': 'log2'}\n"
          ]
        }
      ],
      "source": [
        "# Импорт регрессионных моделей (уже импортированы ранее)\n",
        "\n",
        "# Параметры для RandomForestRegressor\n",
        "rf_params = [\n",
        "    {'n_estimators': 100, 'max_depth': None, 'max_features': 'sqrt'},\n",
        "    {'n_estimators': 200, 'max_depth': 10,   'max_features': 'sqrt'},\n",
        "    {'n_estimators': 50,  'max_depth': 5,    'max_features': 'log2'},\n",
        "]\n",
        "\n",
        "rf_models = {}\n",
        "for i, params in enumerate(rf_params, start=1):\n",
        "    rf = RandomForestRegressor(\n",
        "        n_estimators=params['n_estimators'],\n",
        "        max_depth=params['max_depth'],\n",
        "        max_features=params['max_features'],\n",
        "    )\n",
        "    rf.fit(X_train, y_train)\n",
        "    rf_models[f\"RF_model_{i}\"] = rf\n",
        "    print(f\"Обучена RF_model_{i} с параметрами {params}\")"
      ]
    },
    {
      "cell_type": "markdown",
      "metadata": {
        "id": "a4DeIDRORCqm"
      },
      "source": [
        "### 4. Модель: Градиентный бустинг (GradientBoostingClassifier)"
      ]
    },
    {
      "cell_type": "code",
      "execution_count": null,
      "metadata": {
        "colab": {
          "base_uri": "https://localhost:8080/"
        },
        "id": "vmT5tXu4RDfV",
        "outputId": "d460d921-73ab-4226-8081-cdb8ef7fb8d0"
      },
      "outputs": [
        {
          "name": "stdout",
          "output_type": "stream",
          "text": [
            "Обучена GB_model_1 с параметрами {'n_estimators': 100, 'learning_rate': 0.1, 'max_depth': 3}\n",
            "Обучена GB_model_2 с параметрами {'n_estimators': 200, 'learning_rate': 0.05, 'max_depth': 4}\n",
            "Обучена GB_model_3 с параметрами {'n_estimators': 50, 'learning_rate': 0.2, 'max_depth': 2}\n"
          ]
        }
      ],
      "source": [
        "# Параметры для GradientBoostingRegressor\n",
        "gb_params = [\n",
        "    {'n_estimators': 100, 'learning_rate': 0.1, 'max_depth': 3},\n",
        "    {'n_estimators': 200, 'learning_rate': 0.05, 'max_depth': 4},\n",
        "    {'n_estimators': 50,  'learning_rate': 0.2,  'max_depth': 2},\n",
        "]\n",
        "\n",
        "gb_models = {}\n",
        "for i, params in enumerate(gb_params, start=1):\n",
        "    gb = GradientBoostingRegressor(\n",
        "        n_estimators=params['n_estimators'],\n",
        "        learning_rate=params['learning_rate'],\n",
        "        max_depth=params['max_depth'],\n",
        "    )\n",
        "    gb.fit(X_train, y_train)\n",
        "    gb_models[f\"GB_model_{i}\"] = gb\n",
        "    print(f\"Обучена GB_model_{i} с параметрами {params}\")"
      ]
    },
    {
      "cell_type": "markdown",
      "metadata": {
        "id": "kbfevjInRFDz"
      },
      "source": [
        "### 5. Сравнение качества на тестовой выборке"
      ]
    },
    {
      "cell_type": "code",
      "execution_count": null,
      "metadata": {
        "colab": {
          "base_uri": "https://localhost:8080/"
        },
        "id": "pZsXpOOnRGl9",
        "outputId": "99fd27e6-1ab6-4dde-b79a-06f80f791158"
      },
      "outputs": [
        {
          "name": "stdout",
          "output_type": "stream",
          "text": [
            "===== RF_model_1 =====\n",
            "MSE: 0.0338\n",
            "MAE: 0.1463\n",
            "R² Score: 0.9646\n",
            "----------------------------------------\n",
            "===== RF_model_2 =====\n",
            "MSE: 0.0365\n",
            "MAE: 0.1578\n",
            "R² Score: 0.9617\n",
            "----------------------------------------\n",
            "===== RF_model_3 =====\n",
            "MSE: 0.0837\n",
            "MAE: 0.2375\n",
            "R² Score: 0.9123\n",
            "----------------------------------------\n",
            "===== GB_model_1 =====\n",
            "MSE: 0.0149\n",
            "MAE: 0.0947\n",
            "R² Score: 0.9844\n",
            "----------------------------------------\n",
            "===== GB_model_2 =====\n",
            "MSE: 0.0191\n",
            "MAE: 0.1099\n",
            "R² Score: 0.9800\n",
            "----------------------------------------\n",
            "===== GB_model_3 =====\n",
            "MSE: 0.0178\n",
            "MAE: 0.1024\n",
            "R² Score: 0.9813\n",
            "----------------------------------------\n"
          ]
        }
      ],
      "source": [
        "def evaluate_regressor(model, X_test, y_test, model_name=\"\"):\n",
        "    y_pred = model.predict(X_test)\n",
        "    mse = mean_squared_error(y_test, y_pred)\n",
        "    mae = mean_absolute_error(y_test, y_pred)\n",
        "    r2 = r2_score(y_test, y_pred)\n",
        "    print(f\"===== {model_name} =====\")\n",
        "    print(f\"MSE: {mse:.4f}\")\n",
        "    print(f\"MAE: {mae:.4f}\")\n",
        "    print(f\"R² Score: {r2:.4f}\")\n",
        "    print(\"-\"*40)\n",
        "\n",
        "# Оценим все модели RandomForestRegressor\n",
        "for name, model in rf_models.items():\n",
        "    evaluate_regressor(model, X_test, y_test, name)\n",
        "\n",
        "# Оценим все модели GradientBoostingRegressor\n",
        "for name, model in gb_models.items():\n",
        "    evaluate_regressor(model, X_test, y_test, name)"
      ]
    },
    {
      "cell_type": "markdown",
      "metadata": {
        "id": "AW-kDVVURH2c"
      },
      "source": [
        "### 6. Итоги и сравнительная оценка\n",
        "\n",
        "GradientBoostingRegressor является более эффективным алгоритмом для данной задачи регрессии по сравнению с RandomForestRegressor, демонстрируя более низкие значения MSE и MAE, а также более высокие значения R² Score.\n",
        "\n",
        "Оптимальная конфигурация для RandomForestRegressor (RF_model_2) включает увеличение числа деревьев до 200, ограничение глубины до 10 и использование 'sqrt' для параметра max_features.\n",
        "\n",
        "Для GradientBoostingRegressor наилучшие результаты были достигнуты при использовании 100 деревьев, learning_rate 0.1 и max_depth 3, что обеспечивает баланс между скоростью обучения и точностью модели.\n",
        "\n"
      ]
    },
    {
      "cell_type": "markdown",
      "metadata": {
        "id": "0Wrm4KQwcJaq"
      },
      "source": [
        "## Heart\n"
      ]
    },
    {
      "cell_type": "markdown",
      "metadata": {
        "id": "3ck2ZZzVeIx5"
      },
      "source": [
        "### 1. Загрузка данных\n"
      ]
    },
    {
      "cell_type": "code",
      "execution_count": null,
      "metadata": {
        "colab": {
          "base_uri": "https://localhost:8080/",
          "height": 275
        },
        "id": "qE3zJnUGeIx6",
        "outputId": "c0c1778c-8f46-4539-b040-60434c962ffe"
      },
      "outputs": [
        {
          "name": "stderr",
          "output_type": "stream",
          "text": [
            "Downloading...\n",
            "From: https://drive.google.com/uc?export=download&id=1bZinjn1gh3ZovYM2e6m_lwdkScYsooDG\n",
            "To: /content/heart_new.csv\n",
            "100%|██████████| 7.55k/7.55k [00:00<00:00, 15.6MB/s]\n"
          ]
        },
        {
          "data": {
            "application/vnd.google.colaboratory.intrinsic+json": {
              "summary": "{\n  \"name\": \"Heart\",\n  \"rows\": 202,\n  \"fields\": [\n    {\n      \"column\": \"age\",\n      \"properties\": {\n        \"dtype\": \"number\",\n        \"std\": 9,\n        \"min\": 29,\n        \"max\": 74,\n        \"num_unique_values\": 38,\n        \"samples\": [\n          46,\n          70,\n          54\n        ],\n        \"semantic_type\": \"\",\n        \"description\": \"\"\n      }\n    },\n    {\n      \"column\": \"sex\",\n      \"properties\": {\n        \"dtype\": \"number\",\n        \"std\": 0,\n        \"min\": 0,\n        \"max\": 1,\n        \"num_unique_values\": 2,\n        \"samples\": [\n          1,\n          0\n        ],\n        \"semantic_type\": \"\",\n        \"description\": \"\"\n      }\n    },\n    {\n      \"column\": \"cp\",\n      \"properties\": {\n        \"dtype\": \"number\",\n        \"std\": 0,\n        \"min\": 0,\n        \"max\": 3,\n        \"num_unique_values\": 4,\n        \"samples\": [\n          0,\n          3\n        ],\n        \"semantic_type\": \"\",\n        \"description\": \"\"\n      }\n    },\n    {\n      \"column\": \"trestbps\",\n      \"properties\": {\n        \"dtype\": \"number\",\n        \"std\": 14,\n        \"min\": 94,\n        \"max\": 170,\n        \"num_unique_values\": 38,\n        \"samples\": [\n          145,\n          154\n        ],\n        \"semantic_type\": \"\",\n        \"description\": \"\"\n      }\n    },\n    {\n      \"column\": \"chol\",\n      \"properties\": {\n        \"dtype\": \"number\",\n        \"std\": 43,\n        \"min\": 131,\n        \"max\": 354,\n        \"num_unique_values\": 120,\n        \"samples\": [\n          183,\n          258\n        ],\n        \"semantic_type\": \"\",\n        \"description\": \"\"\n      }\n    },\n    {\n      \"column\": \"fbs\",\n      \"properties\": {\n        \"dtype\": \"number\",\n        \"std\": 0,\n        \"min\": 0,\n        \"max\": 0,\n        \"num_unique_values\": 1,\n        \"samples\": [\n          0\n        ],\n        \"semantic_type\": \"\",\n        \"description\": \"\"\n      }\n    },\n    {\n      \"column\": \"restecg\",\n      \"properties\": {\n        \"dtype\": \"number\",\n        \"std\": 0,\n        \"min\": 0,\n        \"max\": 2,\n        \"num_unique_values\": 3,\n        \"samples\": [\n          0\n        ],\n        \"semantic_type\": \"\",\n        \"description\": \"\"\n      }\n    },\n    {\n      \"column\": \"thalach\",\n      \"properties\": {\n        \"dtype\": \"number\",\n        \"std\": 22,\n        \"min\": 95,\n        \"max\": 202,\n        \"num_unique_values\": 79,\n        \"samples\": [\n          186\n        ],\n        \"semantic_type\": \"\",\n        \"description\": \"\"\n      }\n    },\n    {\n      \"column\": \"exang\",\n      \"properties\": {\n        \"dtype\": \"number\",\n        \"std\": 0,\n        \"min\": 0,\n        \"max\": 1,\n        \"num_unique_values\": 2,\n        \"samples\": [\n          1\n        ],\n        \"semantic_type\": \"\",\n        \"description\": \"\"\n      }\n    },\n    {\n      \"column\": \"oldpeak\",\n      \"properties\": {\n        \"dtype\": \"number\",\n        \"std\": 0.9414419735214193,\n        \"min\": 0.0,\n        \"max\": 3.6,\n        \"num_unique_values\": 29,\n        \"samples\": [\n          2.9\n        ],\n        \"semantic_type\": \"\",\n        \"description\": \"\"\n      }\n    },\n    {\n      \"column\": \"slope\",\n      \"properties\": {\n        \"dtype\": \"number\",\n        \"std\": 0,\n        \"min\": 0,\n        \"max\": 2,\n        \"num_unique_values\": 3,\n        \"samples\": [\n          2\n        ],\n        \"semantic_type\": \"\",\n        \"description\": \"\"\n      }\n    },\n    {\n      \"column\": \"ca\",\n      \"properties\": {\n        \"dtype\": \"number\",\n        \"std\": 0,\n        \"min\": 0,\n        \"max\": 2,\n        \"num_unique_values\": 3,\n        \"samples\": [\n          0\n        ],\n        \"semantic_type\": \"\",\n        \"description\": \"\"\n      }\n    },\n    {\n      \"column\": \"thal\",\n      \"properties\": {\n        \"dtype\": \"number\",\n        \"std\": 0,\n        \"min\": 1,\n        \"max\": 3,\n        \"num_unique_values\": 3,\n        \"samples\": [\n          2\n        ],\n        \"semantic_type\": \"\",\n        \"description\": \"\"\n      }\n    },\n    {\n      \"column\": \"target\",\n      \"properties\": {\n        \"dtype\": \"number\",\n        \"std\": 0,\n        \"min\": 0,\n        \"max\": 1,\n        \"num_unique_values\": 2,\n        \"samples\": [\n          0\n        ],\n        \"semantic_type\": \"\",\n        \"description\": \"\"\n      }\n    }\n  ]\n}",
              "type": "dataframe",
              "variable_name": "Heart"
            },
            "text/html": [
              "\n",
              "  <div id=\"df-1187b051-1b91-4c97-90ff-546a6d81e269\" class=\"colab-df-container\">\n",
              "    <div>\n",
              "<style scoped>\n",
              "    .dataframe tbody tr th:only-of-type {\n",
              "        vertical-align: middle;\n",
              "    }\n",
              "\n",
              "    .dataframe tbody tr th {\n",
              "        vertical-align: top;\n",
              "    }\n",
              "\n",
              "    .dataframe thead th {\n",
              "        text-align: right;\n",
              "    }\n",
              "</style>\n",
              "<table border=\"1\" class=\"dataframe\">\n",
              "  <thead>\n",
              "    <tr style=\"text-align: right;\">\n",
              "      <th></th>\n",
              "      <th>age</th>\n",
              "      <th>sex</th>\n",
              "      <th>cp</th>\n",
              "      <th>trestbps</th>\n",
              "      <th>chol</th>\n",
              "      <th>fbs</th>\n",
              "      <th>restecg</th>\n",
              "      <th>thalach</th>\n",
              "      <th>exang</th>\n",
              "      <th>oldpeak</th>\n",
              "      <th>slope</th>\n",
              "      <th>ca</th>\n",
              "      <th>thal</th>\n",
              "      <th>target</th>\n",
              "    </tr>\n",
              "  </thead>\n",
              "  <tbody>\n",
              "    <tr>\n",
              "      <th>0</th>\n",
              "      <td>41</td>\n",
              "      <td>0</td>\n",
              "      <td>1</td>\n",
              "      <td>130</td>\n",
              "      <td>204</td>\n",
              "      <td>0</td>\n",
              "      <td>0</td>\n",
              "      <td>172</td>\n",
              "      <td>0</td>\n",
              "      <td>1.4</td>\n",
              "      <td>2</td>\n",
              "      <td>0</td>\n",
              "      <td>2</td>\n",
              "      <td>1</td>\n",
              "    </tr>\n",
              "    <tr>\n",
              "      <th>1</th>\n",
              "      <td>56</td>\n",
              "      <td>1</td>\n",
              "      <td>1</td>\n",
              "      <td>120</td>\n",
              "      <td>236</td>\n",
              "      <td>0</td>\n",
              "      <td>1</td>\n",
              "      <td>178</td>\n",
              "      <td>0</td>\n",
              "      <td>0.8</td>\n",
              "      <td>2</td>\n",
              "      <td>0</td>\n",
              "      <td>2</td>\n",
              "      <td>1</td>\n",
              "    </tr>\n",
              "    <tr>\n",
              "      <th>2</th>\n",
              "      <td>57</td>\n",
              "      <td>0</td>\n",
              "      <td>0</td>\n",
              "      <td>120</td>\n",
              "      <td>354</td>\n",
              "      <td>0</td>\n",
              "      <td>1</td>\n",
              "      <td>163</td>\n",
              "      <td>1</td>\n",
              "      <td>0.6</td>\n",
              "      <td>2</td>\n",
              "      <td>0</td>\n",
              "      <td>2</td>\n",
              "      <td>1</td>\n",
              "    </tr>\n",
              "    <tr>\n",
              "      <th>3</th>\n",
              "      <td>57</td>\n",
              "      <td>1</td>\n",
              "      <td>0</td>\n",
              "      <td>140</td>\n",
              "      <td>192</td>\n",
              "      <td>0</td>\n",
              "      <td>1</td>\n",
              "      <td>148</td>\n",
              "      <td>0</td>\n",
              "      <td>0.4</td>\n",
              "      <td>1</td>\n",
              "      <td>0</td>\n",
              "      <td>1</td>\n",
              "      <td>1</td>\n",
              "    </tr>\n",
              "    <tr>\n",
              "      <th>4</th>\n",
              "      <td>56</td>\n",
              "      <td>0</td>\n",
              "      <td>1</td>\n",
              "      <td>140</td>\n",
              "      <td>294</td>\n",
              "      <td>0</td>\n",
              "      <td>0</td>\n",
              "      <td>153</td>\n",
              "      <td>0</td>\n",
              "      <td>1.3</td>\n",
              "      <td>1</td>\n",
              "      <td>0</td>\n",
              "      <td>2</td>\n",
              "      <td>1</td>\n",
              "    </tr>\n",
              "  </tbody>\n",
              "</table>\n",
              "</div>\n",
              "    <div class=\"colab-df-buttons\">\n",
              "\n",
              "  <div class=\"colab-df-container\">\n",
              "    <button class=\"colab-df-convert\" onclick=\"convertToInteractive('df-1187b051-1b91-4c97-90ff-546a6d81e269')\"\n",
              "            title=\"Convert this dataframe to an interactive table.\"\n",
              "            style=\"display:none;\">\n",
              "\n",
              "  <svg xmlns=\"http://www.w3.org/2000/svg\" height=\"24px\" viewBox=\"0 -960 960 960\">\n",
              "    <path d=\"M120-120v-720h720v720H120Zm60-500h600v-160H180v160Zm220 220h160v-160H400v160Zm0 220h160v-160H400v160ZM180-400h160v-160H180v160Zm440 0h160v-160H620v160ZM180-180h160v-160H180v160Zm440 0h160v-160H620v160Z\"/>\n",
              "  </svg>\n",
              "    </button>\n",
              "\n",
              "  <style>\n",
              "    .colab-df-container {\n",
              "      display:flex;\n",
              "      gap: 12px;\n",
              "    }\n",
              "\n",
              "    .colab-df-convert {\n",
              "      background-color: #E8F0FE;\n",
              "      border: none;\n",
              "      border-radius: 50%;\n",
              "      cursor: pointer;\n",
              "      display: none;\n",
              "      fill: #1967D2;\n",
              "      height: 32px;\n",
              "      padding: 0 0 0 0;\n",
              "      width: 32px;\n",
              "    }\n",
              "\n",
              "    .colab-df-convert:hover {\n",
              "      background-color: #E2EBFA;\n",
              "      box-shadow: 0px 1px 2px rgba(60, 64, 67, 0.3), 0px 1px 3px 1px rgba(60, 64, 67, 0.15);\n",
              "      fill: #174EA6;\n",
              "    }\n",
              "\n",
              "    .colab-df-buttons div {\n",
              "      margin-bottom: 4px;\n",
              "    }\n",
              "\n",
              "    [theme=dark] .colab-df-convert {\n",
              "      background-color: #3B4455;\n",
              "      fill: #D2E3FC;\n",
              "    }\n",
              "\n",
              "    [theme=dark] .colab-df-convert:hover {\n",
              "      background-color: #434B5C;\n",
              "      box-shadow: 0px 1px 3px 1px rgba(0, 0, 0, 0.15);\n",
              "      filter: drop-shadow(0px 1px 2px rgba(0, 0, 0, 0.3));\n",
              "      fill: #FFFFFF;\n",
              "    }\n",
              "  </style>\n",
              "\n",
              "    <script>\n",
              "      const buttonEl =\n",
              "        document.querySelector('#df-1187b051-1b91-4c97-90ff-546a6d81e269 button.colab-df-convert');\n",
              "      buttonEl.style.display =\n",
              "        google.colab.kernel.accessAllowed ? 'block' : 'none';\n",
              "\n",
              "      async function convertToInteractive(key) {\n",
              "        const element = document.querySelector('#df-1187b051-1b91-4c97-90ff-546a6d81e269');\n",
              "        const dataTable =\n",
              "          await google.colab.kernel.invokeFunction('convertToInteractive',\n",
              "                                                    [key], {});\n",
              "        if (!dataTable) return;\n",
              "\n",
              "        const docLinkHtml = 'Like what you see? Visit the ' +\n",
              "          '<a target=\"_blank\" href=https://colab.research.google.com/notebooks/data_table.ipynb>data table notebook</a>'\n",
              "          + ' to learn more about interactive tables.';\n",
              "        element.innerHTML = '';\n",
              "        dataTable['output_type'] = 'display_data';\n",
              "        await google.colab.output.renderOutput(dataTable, element);\n",
              "        const docLink = document.createElement('div');\n",
              "        docLink.innerHTML = docLinkHtml;\n",
              "        element.appendChild(docLink);\n",
              "      }\n",
              "    </script>\n",
              "  </div>\n",
              "\n",
              "\n",
              "<div id=\"df-76c10d07-84de-48a7-8caa-affda56d795b\">\n",
              "  <button class=\"colab-df-quickchart\" onclick=\"quickchart('df-76c10d07-84de-48a7-8caa-affda56d795b')\"\n",
              "            title=\"Suggest charts\"\n",
              "            style=\"display:none;\">\n",
              "\n",
              "<svg xmlns=\"http://www.w3.org/2000/svg\" height=\"24px\"viewBox=\"0 0 24 24\"\n",
              "     width=\"24px\">\n",
              "    <g>\n",
              "        <path d=\"M19 3H5c-1.1 0-2 .9-2 2v14c0 1.1.9 2 2 2h14c1.1 0 2-.9 2-2V5c0-1.1-.9-2-2-2zM9 17H7v-7h2v7zm4 0h-2V7h2v10zm4 0h-2v-4h2v4z\"/>\n",
              "    </g>\n",
              "</svg>\n",
              "  </button>\n",
              "\n",
              "<style>\n",
              "  .colab-df-quickchart {\n",
              "      --bg-color: #E8F0FE;\n",
              "      --fill-color: #1967D2;\n",
              "      --hover-bg-color: #E2EBFA;\n",
              "      --hover-fill-color: #174EA6;\n",
              "      --disabled-fill-color: #AAA;\n",
              "      --disabled-bg-color: #DDD;\n",
              "  }\n",
              "\n",
              "  [theme=dark] .colab-df-quickchart {\n",
              "      --bg-color: #3B4455;\n",
              "      --fill-color: #D2E3FC;\n",
              "      --hover-bg-color: #434B5C;\n",
              "      --hover-fill-color: #FFFFFF;\n",
              "      --disabled-bg-color: #3B4455;\n",
              "      --disabled-fill-color: #666;\n",
              "  }\n",
              "\n",
              "  .colab-df-quickchart {\n",
              "    background-color: var(--bg-color);\n",
              "    border: none;\n",
              "    border-radius: 50%;\n",
              "    cursor: pointer;\n",
              "    display: none;\n",
              "    fill: var(--fill-color);\n",
              "    height: 32px;\n",
              "    padding: 0;\n",
              "    width: 32px;\n",
              "  }\n",
              "\n",
              "  .colab-df-quickchart:hover {\n",
              "    background-color: var(--hover-bg-color);\n",
              "    box-shadow: 0 1px 2px rgba(60, 64, 67, 0.3), 0 1px 3px 1px rgba(60, 64, 67, 0.15);\n",
              "    fill: var(--button-hover-fill-color);\n",
              "  }\n",
              "\n",
              "  .colab-df-quickchart-complete:disabled,\n",
              "  .colab-df-quickchart-complete:disabled:hover {\n",
              "    background-color: var(--disabled-bg-color);\n",
              "    fill: var(--disabled-fill-color);\n",
              "    box-shadow: none;\n",
              "  }\n",
              "\n",
              "  .colab-df-spinner {\n",
              "    border: 2px solid var(--fill-color);\n",
              "    border-color: transparent;\n",
              "    border-bottom-color: var(--fill-color);\n",
              "    animation:\n",
              "      spin 1s steps(1) infinite;\n",
              "  }\n",
              "\n",
              "  @keyframes spin {\n",
              "    0% {\n",
              "      border-color: transparent;\n",
              "      border-bottom-color: var(--fill-color);\n",
              "      border-left-color: var(--fill-color);\n",
              "    }\n",
              "    20% {\n",
              "      border-color: transparent;\n",
              "      border-left-color: var(--fill-color);\n",
              "      border-top-color: var(--fill-color);\n",
              "    }\n",
              "    30% {\n",
              "      border-color: transparent;\n",
              "      border-left-color: var(--fill-color);\n",
              "      border-top-color: var(--fill-color);\n",
              "      border-right-color: var(--fill-color);\n",
              "    }\n",
              "    40% {\n",
              "      border-color: transparent;\n",
              "      border-right-color: var(--fill-color);\n",
              "      border-top-color: var(--fill-color);\n",
              "    }\n",
              "    60% {\n",
              "      border-color: transparent;\n",
              "      border-right-color: var(--fill-color);\n",
              "    }\n",
              "    80% {\n",
              "      border-color: transparent;\n",
              "      border-right-color: var(--fill-color);\n",
              "      border-bottom-color: var(--fill-color);\n",
              "    }\n",
              "    90% {\n",
              "      border-color: transparent;\n",
              "      border-bottom-color: var(--fill-color);\n",
              "    }\n",
              "  }\n",
              "</style>\n",
              "\n",
              "  <script>\n",
              "    async function quickchart(key) {\n",
              "      const quickchartButtonEl =\n",
              "        document.querySelector('#' + key + ' button');\n",
              "      quickchartButtonEl.disabled = true;  // To prevent multiple clicks.\n",
              "      quickchartButtonEl.classList.add('colab-df-spinner');\n",
              "      try {\n",
              "        const charts = await google.colab.kernel.invokeFunction(\n",
              "            'suggestCharts', [key], {});\n",
              "      } catch (error) {\n",
              "        console.error('Error during call to suggestCharts:', error);\n",
              "      }\n",
              "      quickchartButtonEl.classList.remove('colab-df-spinner');\n",
              "      quickchartButtonEl.classList.add('colab-df-quickchart-complete');\n",
              "    }\n",
              "    (() => {\n",
              "      let quickchartButtonEl =\n",
              "        document.querySelector('#df-76c10d07-84de-48a7-8caa-affda56d795b button');\n",
              "      quickchartButtonEl.style.display =\n",
              "        google.colab.kernel.accessAllowed ? 'block' : 'none';\n",
              "    })();\n",
              "  </script>\n",
              "</div>\n",
              "    </div>\n",
              "  </div>\n"
            ],
            "text/plain": [
              "   age  sex  cp  trestbps  chol  fbs  restecg  thalach  exang  oldpeak  slope  \\\n",
              "0   41    0   1       130   204    0        0      172      0      1.4      2   \n",
              "1   56    1   1       120   236    0        1      178      0      0.8      2   \n",
              "2   57    0   0       120   354    0        1      163      1      0.6      2   \n",
              "3   57    1   0       140   192    0        1      148      0      0.4      1   \n",
              "4   56    0   1       140   294    0        0      153      0      1.3      1   \n",
              "\n",
              "   ca  thal  target  \n",
              "0   0     2       1  \n",
              "1   0     2       1  \n",
              "2   0     2       1  \n",
              "3   0     1       1  \n",
              "4   0     2       1  "
            ]
          },
          "execution_count": 14,
          "metadata": {},
          "output_type": "execute_result"
        }
      ],
      "source": [
        "url = 'https://drive.google.com/uc?export=download&id=1bZinjn1gh3ZovYM2e6m_lwdkScYsooDG'\n",
        "output = 'heart_new.csv'\n",
        "gdown.download(url, output, quiet=False)\n",
        "Heart = pd.read_csv('/content/heart_new.csv')\n",
        "Heart.head()"
      ]
    },
    {
      "cell_type": "markdown",
      "metadata": {
        "id": "RpPbqAwyeIx7"
      },
      "source": [
        "### 2. Разбиваем датасет на train/test\n",
        "Можно выделить валидационную выборку, но для упрощённого случая\n",
        "будем использовать train_test_split и финальный тест для сравнения моделей."
      ]
    },
    {
      "cell_type": "code",
      "execution_count": null,
      "metadata": {
        "colab": {
          "base_uri": "https://localhost:8080/"
        },
        "id": "EZVvWZp6eIx7",
        "outputId": "cd2b3994-172b-41bf-8086-23ec3f71d26b"
      },
      "outputs": [
        {
          "name": "stdout",
          "output_type": "stream",
          "text": [
            "Размер обучающей выборки: (161, 13) (161,)\n",
            "Размер тестовой выборки: (41, 13) (41,)\n"
          ]
        }
      ],
      "source": [
        "X = Heart.drop('target', axis=1)\n",
        "y = Heart['target']\n",
        "\n",
        "# Разделение в соотношении 80/20\n",
        "X_train, X_test, y_train, y_test = train_test_split(\n",
        "    X,\n",
        "    y,\n",
        "    test_size=0.2,\n",
        ")\n",
        "\n",
        "print(\"Размер обучающей выборки:\", X_train.shape, y_train.shape)\n",
        "print(\"Размер тестовой выборки:\", X_test.shape, y_test.shape)\n"
      ]
    },
    {
      "cell_type": "markdown",
      "metadata": {
        "id": "_V27_G_9eIx7"
      },
      "source": [
        "### 3. Модель: Случайный лес (RandomForestClassifier)"
      ]
    },
    {
      "cell_type": "code",
      "execution_count": null,
      "metadata": {
        "colab": {
          "base_uri": "https://localhost:8080/"
        },
        "id": "gwApn10VeIx7",
        "outputId": "b9915174-4fd6-4dee-c405-2e8ab78ee879"
      },
      "outputs": [
        {
          "name": "stdout",
          "output_type": "stream",
          "text": [
            "Обучена RF_model_1 с параметрами {'n_estimators': 100, 'max_depth': None, 'max_features': 'sqrt'}\n",
            "Обучена RF_model_2 с параметрами {'n_estimators': 200, 'max_depth': 10, 'max_features': 'sqrt'}\n",
            "Обучена RF_model_3 с параметрами {'n_estimators': 50, 'max_depth': 5, 'max_features': 'log2'}\n"
          ]
        }
      ],
      "source": [
        "# Перебираем несколько вариантов гиперпараметров\n",
        "# (В реальности можно организовать GridSearchCV или RandomizedSearchCV для перебора параметров.)\n",
        "\n",
        "rf_params = [\n",
        "    {'n_estimators': 100, 'max_depth': None, 'max_features': 'sqrt'},\n",
        "    {'n_estimators': 200, 'max_depth': 10,   'max_features': 'sqrt'},\n",
        "    {'n_estimators': 50,  'max_depth': 5,    'max_features': 'log2'},\n",
        "]\n",
        "\n",
        "rf_models = {}\n",
        "for i, params in enumerate(rf_params, start=1):\n",
        "    rf = RandomForestClassifier(\n",
        "        n_estimators=params['n_estimators'],\n",
        "        max_depth=params['max_depth'],\n",
        "        max_features=params['max_features'],\n",
        "    )\n",
        "    rf.fit(X_train, y_train)\n",
        "    rf_models[f\"RF_model_{i}\"] = rf\n",
        "    print(f\"Обучена RF_model_{i} с параметрами {params}\")"
      ]
    },
    {
      "cell_type": "markdown",
      "metadata": {
        "id": "D9Dno8JAeIx8"
      },
      "source": [
        "### 4. Модель: Градиентный бустинг (GradientBoostingClassifier)"
      ]
    },
    {
      "cell_type": "code",
      "execution_count": null,
      "metadata": {
        "colab": {
          "base_uri": "https://localhost:8080/"
        },
        "id": "IIYdvjLbeIx8",
        "outputId": "fe948969-ee18-4c87-8ddf-2e1cf41226b4"
      },
      "outputs": [
        {
          "name": "stdout",
          "output_type": "stream",
          "text": [
            "Обучена GB_model_1 с параметрами {'n_estimators': 100, 'learning_rate': 0.1, 'max_depth': 3}\n",
            "Обучена GB_model_2 с параметрами {'n_estimators': 200, 'learning_rate': 0.05, 'max_depth': 4}\n",
            "Обучена GB_model_3 с параметрами {'n_estimators': 50, 'learning_rate': 0.2, 'max_depth': 2}\n"
          ]
        }
      ],
      "source": [
        "# Несколько вариантов гиперпараметров для GBM\n",
        "gb_params = [\n",
        "    {'n_estimators': 100, 'learning_rate': 0.1, 'max_depth': 3},\n",
        "    {'n_estimators': 200, 'learning_rate': 0.05, 'max_depth': 4},\n",
        "    {'n_estimators': 50,  'learning_rate': 0.2,  'max_depth': 2},\n",
        "]\n",
        "\n",
        "gb_models = {}\n",
        "for i, params in enumerate(gb_params, start=1):\n",
        "    gb = GradientBoostingClassifier(\n",
        "        n_estimators=params['n_estimators'],\n",
        "        learning_rate=params['learning_rate'],\n",
        "        max_depth=params['max_depth'],\n",
        "    )\n",
        "    gb.fit(X_train, y_train)\n",
        "    gb_models[f\"GB_model_{i}\"] = gb\n",
        "    print(f\"Обучена GB_model_{i} с параметрами {params}\")"
      ]
    },
    {
      "cell_type": "markdown",
      "metadata": {
        "id": "rZ9CXGJceIx8"
      },
      "source": [
        "### 5. Сравнение качества на тестовой выборке"
      ]
    },
    {
      "cell_type": "code",
      "execution_count": null,
      "metadata": {
        "colab": {
          "base_uri": "https://localhost:8080/"
        },
        "id": "ntBWD-uDeIx8",
        "outputId": "fdfd27f1-fb4e-40c4-9aeb-e231a9c7178f"
      },
      "outputs": [
        {
          "name": "stdout",
          "output_type": "stream",
          "text": [
            "===== RF_model_1 =====\n",
            "Accuracy: 0.9024\n",
            "Classification Report:\n",
            "              precision    recall  f1-score   support\n",
            "\n",
            "           0       0.88      0.88      0.88        16\n",
            "           1       0.92      0.92      0.92        25\n",
            "\n",
            "    accuracy                           0.90        41\n",
            "   macro avg       0.90      0.90      0.90        41\n",
            "weighted avg       0.90      0.90      0.90        41\n",
            "\n",
            "Confusion Matrix:\n",
            "[[14  2]\n",
            " [ 2 23]]\n",
            "----------------------------------------\n",
            "===== RF_model_2 =====\n",
            "Accuracy: 0.9024\n",
            "Classification Report:\n",
            "              precision    recall  f1-score   support\n",
            "\n",
            "           0       0.88      0.88      0.88        16\n",
            "           1       0.92      0.92      0.92        25\n",
            "\n",
            "    accuracy                           0.90        41\n",
            "   macro avg       0.90      0.90      0.90        41\n",
            "weighted avg       0.90      0.90      0.90        41\n",
            "\n",
            "Confusion Matrix:\n",
            "[[14  2]\n",
            " [ 2 23]]\n",
            "----------------------------------------\n",
            "===== RF_model_3 =====\n",
            "Accuracy: 0.9024\n",
            "Classification Report:\n",
            "              precision    recall  f1-score   support\n",
            "\n",
            "           0       0.93      0.81      0.87        16\n",
            "           1       0.89      0.96      0.92        25\n",
            "\n",
            "    accuracy                           0.90        41\n",
            "   macro avg       0.91      0.89      0.89        41\n",
            "weighted avg       0.90      0.90      0.90        41\n",
            "\n",
            "Confusion Matrix:\n",
            "[[13  3]\n",
            " [ 1 24]]\n",
            "----------------------------------------\n",
            "===== GB_model_1 =====\n",
            "Accuracy: 0.9024\n",
            "Classification Report:\n",
            "              precision    recall  f1-score   support\n",
            "\n",
            "           0       0.88      0.88      0.88        16\n",
            "           1       0.92      0.92      0.92        25\n",
            "\n",
            "    accuracy                           0.90        41\n",
            "   macro avg       0.90      0.90      0.90        41\n",
            "weighted avg       0.90      0.90      0.90        41\n",
            "\n",
            "Confusion Matrix:\n",
            "[[14  2]\n",
            " [ 2 23]]\n",
            "----------------------------------------\n",
            "===== GB_model_2 =====\n",
            "Accuracy: 0.9024\n",
            "Classification Report:\n",
            "              precision    recall  f1-score   support\n",
            "\n",
            "           0       0.83      0.94      0.88        16\n",
            "           1       0.96      0.88      0.92        25\n",
            "\n",
            "    accuracy                           0.90        41\n",
            "   macro avg       0.89      0.91      0.90        41\n",
            "weighted avg       0.91      0.90      0.90        41\n",
            "\n",
            "Confusion Matrix:\n",
            "[[15  1]\n",
            " [ 3 22]]\n",
            "----------------------------------------\n",
            "===== GB_model_3 =====\n",
            "Accuracy: 0.9024\n",
            "Classification Report:\n",
            "              precision    recall  f1-score   support\n",
            "\n",
            "           0       0.93      0.81      0.87        16\n",
            "           1       0.89      0.96      0.92        25\n",
            "\n",
            "    accuracy                           0.90        41\n",
            "   macro avg       0.91      0.89      0.89        41\n",
            "weighted avg       0.90      0.90      0.90        41\n",
            "\n",
            "Confusion Matrix:\n",
            "[[13  3]\n",
            " [ 1 24]]\n",
            "----------------------------------------\n"
          ]
        }
      ],
      "source": [
        "def evaluate_model(model, X_test, y_test, model_name=\"\"):\n",
        "    y_pred = model.predict(X_test)\n",
        "    acc = accuracy_score(y_test, y_pred)\n",
        "    print(f\"===== {model_name} =====\")\n",
        "    print(f\"Accuracy: {acc:.4f}\")\n",
        "    print(\"Classification Report:\")\n",
        "    print(classification_report(y_test, y_pred))\n",
        "    print(\"Confusion Matrix:\")\n",
        "    cm = confusion_matrix(y_test, y_pred)\n",
        "    print(cm)\n",
        "    print(\"-\"*40)\n",
        "\n",
        "# Оценим все модели RandomForestClassifier\n",
        "for name, model in rf_models.items():\n",
        "    evaluate_model(model, X_test, y_test, name)\n",
        "\n",
        "# Оценим все модели GradientBoostingClassifier\n",
        "for name, model in gb_models.items():\n",
        "    evaluate_model(model, X_test, y_test, name)"
      ]
    },
    {
      "cell_type": "markdown",
      "metadata": {
        "id": "HHLxM70weIx8"
      },
      "source": [
        "### 6. Итоги и сравнительная оценка\n",
        "\n",
        "RandomForestClassifier и GradientBoostingClassifier обе являются эффективными алгоритмами для данной задачи классификации, демонстрируя высокую точность (Accuracy более 0.75) и сбалансированные показатели Precision и Recall для обоих классов.\n",
        "\n",
        "### RandomForestClassifier\n",
        "\n",
        "RF_model_1 показал лучшие результаты среди моделей случайного леса, благодаря оптимальному сочетанию количества деревьев, глубины и числа признаков.\n",
        "Однако GradientBoostingClassifier с GB_model_3 достиг аналогичного уровня точности, что делает его предпочтительным выбором при необходимости более тонкой настройки модели.\n",
        "\n",
        "### GradientBoostingClassifier\n",
        "\n",
        "GB_model_1 и GB_model_3 продемонстрировали отличные результаты, с GB_model_3 немного превосходящей RF_model_1 по Accuracy и Recall для класса 1.\n",
        "Настройка гиперпараметров играет ключевую роль в производительности моделей. Более глубокие деревья и увеличение числа деревьев в ансамбле способствовали улучшению метрик модели.\n",
        "\n"
      ]
    }
  ],
  "metadata": {
    "colab": {
      "provenance": []
    },
    "kernelspec": {
      "display_name": "Python 3",
      "name": "python3"
    },
    "language_info": {
      "name": "python"
    }
  },
  "nbformat": 4,
  "nbformat_minor": 0
}
